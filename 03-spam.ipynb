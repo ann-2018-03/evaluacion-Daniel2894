{
 "cells": [
  {
   "cell_type": "markdown",
   "metadata": {
    "colab": {},
    "colab_type": "code",
    "id": "n3lnWjvI83ix"
   },
   "source": [
    "# Filtrado de mensajes spam"
   ]
  },
  {
   "cell_type": "markdown",
   "metadata": {
    "colab_type": "text",
    "id": "BKfTSnvTq-OG"
   },
   "source": [
    "## Descripción del problema real"
   ]
  },
  {
   "cell_type": "markdown",
   "metadata": {
    "colab_type": "text",
    "id": "lsqvV1xzq-OI"
   },
   "source": [
    "La recepción de publicidad no deseada a traves mensajes de texto usando SMS (Short Message Service) es un problema que afecta a muchos usuarios de teléfonos móviles. El problema radica en que los usuarios deben pagar por los mesajes recibidos, y por este motivo resulta muy importante que las compañías prestadoras del servicio puedan filtrar mensajes indeseados antes de enviarlos a su destinatario final. Los mensajes tienen una longitud máxima de 160 caracteres, por lo que el texto resulta poco para realizar la clasificación, en comparación con textos más largos (como los emails). Adicionalmente, los errores de digitación dificultan el proceso de detección automática."
   ]
  },
  {
   "cell_type": "markdown",
   "metadata": {
    "colab_type": "text",
    "id": "AyDmg5jlq-OI"
   },
   "source": [
    "## Descripción del problema en términos de los datos"
   ]
  },
  {
   "cell_type": "markdown",
   "metadata": {
    "colab_type": "text",
    "id": "YqhGF4HYq-OJ"
   },
   "source": [
    "Se tiene una muestra contiene 5574 mensajes en inglés, no codificados y clasificados como legítimos (ham) o spam (http://www.dt.fee.unicamp.br/~tiago/smsspamcollection/). La información está almacenada en el archivo `datos/spam-sms.zip`.El problema en términos de los datos consiste en clasificar si un mensaje SMS es legítico o spam, a partir del análisis de las palabras que contiente, partiendo del supuesto de que ciertas palabras que son más frecuentes dependiendo del tipo de mensaje. Esto implica que en la fase de preparación de los datos se deben extraer las palabras que contiene cada mensaje para poder realizar el análsis."
   ]
  },
  {
   "cell_type": "markdown",
   "metadata": {
    "colab_type": "text",
    "id": "jO1Ru0RRq-OL"
   },
   "source": [
    "## Aproximaciones posibles"
   ]
  },
  {
   "cell_type": "markdown",
   "metadata": {
    "colab_type": "text",
    "id": "ACHDjpLvq-OL"
   },
   "source": [
    "En este caso, se desea comparar los resultados de un modelo de redes neuronales artificiales y otras técnicas estadísticas para realizar la clasificación."
   ]
  },
  {
   "cell_type": "markdown",
   "metadata": {
    "colab_type": "text",
    "id": "APcQe3h4q-ON"
   },
   "source": [
    "## Requerimientos"
   ]
  },
  {
   "cell_type": "markdown",
   "metadata": {
    "colab_type": "text",
    "id": "p2PI6Dqyq-OO"
   },
   "source": [
    "Usted debe:\n",
    "\n",
    "* Preprocesar los datos para representarlos usando bag-of-words.\n",
    "\n",
    "\n",
    "* Construir un modelo de regresión logística como punto base para la comparación con otros modelos más complejos.\n",
    "\n",
    "\n",
    "* Construir un modelo de redes neuronales artificiales. Asimismo, debe determinar el número de neuronas en la capa o capas ocultas.\n",
    "\n",
    "\n",
    "* Utiizar una técnica como crossvalidation u otra similar para establecer la robustez del modelo.\n",
    "\n",
    "\n",
    "* Presentar métricas de desempeño para establecer las bondades y falencias de cada clasificador."
   ]
  },
  {
   "cell_type": "markdown",
   "metadata": {
    "colab_type": "text",
    "id": "SNptMUBfq-OP"
   },
   "source": [
    "---"
   ]
  },
  {
   "cell_type": "markdown",
   "metadata": {
    "colab_type": "text",
    "id": "rK0RGZO9q-OR"
   },
   "source": [
    "# Solución"
   ]
  },
  {
   "cell_type": "code",
   "execution_count": 0,
   "metadata": {
    "colab": {},
    "colab_type": "code",
    "id": "29zAydOiq-OS"
   },
   "outputs": [],
   "source": [
    "import pandas as pd\n",
    "import glob\n",
    "import email\n",
    "import re\n",
    "import nltk\n",
    "import sklearn"
   ]
  },
  {
   "cell_type": "code",
   "execution_count": 0,
   "metadata": {
    "colab": {
     "base_uri": "https://localhost:8080/",
     "height": 136
    },
    "colab_type": "code",
    "id": "F3pXoTPQ7cBa",
    "outputId": "edb66b9f-dd76-4e41-cef2-1839fe2a9058"
   },
   "outputs": [
    {
     "name": "stdout",
     "output_type": "stream",
     "text": [
      "[nltk_data] Downloading package stopwords to /root/nltk_data...\n",
      "[nltk_data]   Package stopwords is already up-to-date!\n",
      "[nltk_data] Downloading package punkt to /root/nltk_data...\n",
      "[nltk_data]   Package punkt is already up-to-date!\n",
      "[nltk_data] Downloading package words to /root/nltk_data...\n",
      "[nltk_data]   Package words is already up-to-date!\n"
     ]
    },
    {
     "data": {
      "text/plain": [
       "True"
      ]
     },
     "execution_count": 2,
     "metadata": {
      "tags": []
     },
     "output_type": "execute_result"
    }
   ],
   "source": [
    "nltk.download('stopwords')\n",
    "nltk.download('punkt')\n",
    "nltk.download('words')"
   ]
  },
  {
   "cell_type": "markdown",
   "metadata": {},
   "source": [
    "Creamos todas las funciones que serviran para la limpieza de los mensajes de texto"
   ]
  },
  {
   "cell_type": "code",
   "execution_count": 0,
   "metadata": {
    "colab": {},
    "colab_type": "code",
    "id": "Uyvn3Q8Uq-OW"
   },
   "outputs": [],
   "source": [
    "def _remove_html_tags(text):\n",
    "    return re.sub(\"<[^>]*>\", \"\", text)\n",
    "\n",
    "def _remove_websites(text):\n",
    "    \"\"\"\n",
    "    este regex fue obtenido de: https://daringfireball.net/2010/07/improved_regex_for_matching_urls\n",
    "    \"\"\"\n",
    "    regex = r'\\b((?:[a-z][\\w-]+:(?:\\/{1,3}|[a-z0-9%])|www\\d{0,3}[.]|[a-z0-9.\\-]+[.][a-z]{2,4}\\/)(?:[^\\s()<>]+|\\(([^\\s()<>]+|(\\([^\\s()<>]+\\)))*\\))+(?:\\(([^\\s()<>]+|(\\([^\\s()<>]+\\)))*\\)|[^\\s`!()\\[\\]{};:\\'\\\".,<>?«»“”‘’]))'\n",
    "    return re.sub(regex, \"\", text)\n",
    "\n",
    "def _remove_emails(text):\n",
    "    return re.sub(\"[a-zA-Z0-9-_.]+@[a-zA-Z0-9-_.].+\", \"\", text)\n",
    "\n",
    "def _lowercase_all(text):\n",
    "    return text.lower()\n",
    "\n",
    "def _remove_special_characters(text):\n",
    "    return re.sub(\"[^A-Za-z0-9]+\", \" \", text)\n",
    "\n",
    "def _remove_numbers(text):\n",
    "    return re.sub(\"[0-9]+\", \"\", text)\n",
    "\n",
    "def _remove_single_letters(text):\n",
    "    words_list = text.split()\n",
    "    clean_text_words = []\n",
    "    for word in words_list:\n",
    "        if len(word) > 1:\n",
    "            clean_text_words.append(word)\n",
    "    return \" \".join(clean_text_words)\n",
    "\n",
    "def _lemmatization_of_words(text):    \n",
    "    from nltk.stem.porter import PorterStemmer\n",
    "    clean_text_words = []\n",
    "    porter = PorterStemmer()\n",
    "    sentence_words = nltk.word_tokenize(text)\n",
    "    \n",
    "    for word in sentence_words:\n",
    "        clean_text_words.append(porter.stem(word))\n",
    "    \n",
    "    return \" \".join(clean_text_words)\n",
    "\n",
    "def _remove_stop_words(text):\n",
    "    from nltk.corpus import stopwords\n",
    "    \n",
    "    stop_words = set(stopwords.words('english'))\n",
    "    words = nltk.word_tokenize(text)\n",
    "    words_filtered = []\n",
    "\n",
    "    for word in words:\n",
    "        if word not in stop_words:\n",
    "            words_filtered.append(word)\n",
    "    \n",
    "    return \" \".join(words_filtered)\n",
    "\n",
    "def _remove_nonsense_words(text):\n",
    "    from nltk.corpus import words\n",
    "    words = set(words.words())\n",
    "    \n",
    "    return \" \".join(w for w in nltk.wordpunct_tokenize(text) if w in words)\n"
   ]
  },
  {
   "cell_type": "markdown",
   "metadata": {},
   "source": [
    "Se ha construido un data pipeline para limpiar el cuerpo del mensaje, los pasos que sigue este método para la limpieza son los siguientes:\n",
    "* Eliminar etiquetas HTML en el cuerpo del mensaje en caso de que existan\n",
    "* Eliminar websites que aparezcan en el mensaje\n",
    "* Eliminar correos electronicos en el cuerpo del mensaje\n",
    "* Pasar todo el texto a minúsculas\n",
    "* Eliminar los carácteres numéricos\n",
    "* Eliminar los carácteres especiales (*/+=:,. entre otros)\n",
    "* Eliminar las letras que no hacen parte de una palabra (esto sucede porque después de eliminar caracteres especiales de palabras como \"it's\", el texto queda como \"it s\")\n",
    "* Eliminación de palabras vacías\n",
    "* Eliminación de palabras sin sentido (palabras inexistentes)\n",
    "* Lematizar las palabras (reducirlas a su base lingüistica)"
   ]
  },
  {
   "cell_type": "code",
   "execution_count": 0,
   "metadata": {
    "colab": {},
    "colab_type": "code",
    "id": "iUUq7a5mq-OZ"
   },
   "outputs": [],
   "source": [
    "def _clean_body_message(body):\n",
    "    message_without_html_tags = _remove_html_tags(body)\n",
    "\n",
    "    message_without_websites = _remove_websites(message_without_html_tags)\n",
    "\n",
    "    message_without_emails = _remove_emails(message_without_websites)\n",
    "\n",
    "    message_lowercase = _lowercase_all(message_without_emails)\n",
    "\n",
    "    message_without_numbers = _remove_numbers(message_lowercase)\n",
    "\n",
    "    message_without_special_characters = _remove_special_characters(message_without_numbers)\n",
    "    \n",
    "    message_without_single_letters = _remove_single_letters(message_without_special_characters)\n",
    "    \n",
    "    message_without_stop_words = _remove_stop_words(message_without_single_letters)\n",
    "    \n",
    "    message_with_correct_words = _remove_nonsense_words(message_without_stop_words)\n",
    "    \n",
    "    clean_message = _lemmatization_of_words(message_with_correct_words)\n",
    "    \n",
    "    return clean_message"
   ]
  },
  {
   "cell_type": "markdown",
   "metadata": {},
   "source": [
    "\\_get_body_message() es la función que nos servirá para obtener unicamente el cuerpo del mensaje"
   ]
  },
  {
   "cell_type": "code",
   "execution_count": 0,
   "metadata": {
    "colab": {},
    "colab_type": "code",
    "id": "Ub-D_2YGq-Od"
   },
   "outputs": [],
   "source": [
    "def _get_body_message(all_message):\n",
    "    b = email.message_from_string(all_message)\n",
    "    body = \"\"\n",
    "\n",
    "    if b.is_multipart():\n",
    "        for part in b.walk():\n",
    "            ctype = part.get_content_type()\n",
    "            cdispo = str(part.get('Content-Disposition'))\n",
    "\n",
    "            # skip any text/plain (txt) attachments\n",
    "            if ctype == 'text/plain' and 'attachment' not in cdispo:\n",
    "                body = part.get_payload()  # decode\n",
    "                break\n",
    "    else:\n",
    "        body = b.get_payload()\n",
    "    \n",
    "    return _clean_body_message(body)"
   ]
  },
  {
   "cell_type": "code",
   "execution_count": 0,
   "metadata": {
    "colab": {},
    "colab_type": "code",
    "id": "r7I5ix04q-Oh"
   },
   "outputs": [],
   "source": [
    "def preprocess_files(files):\n",
    "    mail_body_messages = []\n",
    "    for filename in files:\n",
    "        with open(filename, 'rt', encoding = \"ISO-8859-1\") as f:\n",
    "            body_message = _get_body_message(f.read())\n",
    "            if len(body_message) > 0: # Eliminacion de mensajes que quedaron vacios despues de preprocesamiento\n",
    "                mail_body_messages.append(body_message)\n",
    "    return mail_body_messages"
   ]
  },
  {
   "cell_type": "code",
   "execution_count": 0,
   "metadata": {
    "colab": {},
    "colab_type": "code",
    "id": "DPBgDAu1q-Op",
    "scrolled": true
   },
   "outputs": [],
   "source": [
    "first_easy_ham_files = glob.glob(\"datos/spam-filter/easy_ham/0*\")\n",
    "second_easy_ham_files = glob.glob(\"datos/spam-filter/easy_ham_2/0*\")\n",
    "first_hard_ham_files = glob.glob(\"datos/spam-filter/hard_ham/0*\")\n",
    "second_hard_ham_files = glob.glob(\"datos/spam-filter/hard_ham_2/0*\")\n",
    "first_spam_files = glob.glob(\"datos/spam-filter/spam/0*\")\n",
    "second_spam_files = glob.glob(\"datos/spam-filter/spam_2/0*\")\n",
    "\n",
    "first_easy_ham_messages = preprocess_files(first_easy_ham_files)\n",
    "second_easy_ham_messages = preprocess_files(second_easy_ham_files)\n",
    "first_hard_ham_messages = preprocess_files(first_hard_ham_files)\n",
    "second_hard_ham_messages = preprocess_files(second_hard_ham_files)\n",
    "first_spam_messages = preprocess_files(first_spam_files)\n",
    "second_spam_messages = preprocess_files(second_spam_files)"
   ]
  },
  {
   "cell_type": "markdown",
   "metadata": {},
   "source": [
    "Obtengamos los tres primeros mensajes de first_easy_ham_messages para ver como quedaron los mensajes después de haber pasado por las funciones de preprocesamiento."
   ]
  },
  {
   "cell_type": "code",
   "execution_count": 0,
   "metadata": {
    "colab": {
     "base_uri": "https://localhost:8080/",
     "height": 88
    },
    "colab_type": "code",
    "id": "6ohClQcQBKpA",
    "outputId": "f22276c3-460d-4cfc-88d9-1bdabc49cfd8"
   },
   "outputs": [
    {
     "data": {
      "text/plain": [
       "['vincent wrote hello look packag anyon know get tri compil error messag work spec file dirti clean think build instal sort need pleas tri net help let know list list',\n",
       " 'wed wrote wed stephan wrote face similar problem tri instal fresh defin given order latest file spec modul get use good hear mind tell set specificli tri shell well insid even command line success presum run bash note directori map print set shell variabl variabl put futur use export tri instal man inform stephan intern remembr talk list',\n",
       " 'date mobil danger phone mobil link discuss via hack planet']"
      ]
     },
     "execution_count": 11,
     "metadata": {
      "tags": []
     },
     "output_type": "execute_result"
    }
   ],
   "source": [
    "first_easy_ham_messages[:3]"
   ]
  },
  {
   "cell_type": "markdown",
   "metadata": {},
   "source": [
    "Creamos el método que procesará los datos con el modelo de Bag Of Words, además, este método retornará un dataframe de Pandas con la variable categorica en 1 si los mensajes son categorizados como spam o 0 si no lo son."
   ]
  },
  {
   "cell_type": "code",
   "execution_count": 0,
   "metadata": {
    "colab": {},
    "colab_type": "code",
    "id": "GnVGL8-xq-Ot"
   },
   "outputs": [],
   "source": [
    "def get_bag_of_words_dataset(files, is_spam_files):    \n",
    "    from sklearn.feature_extraction.text import CountVectorizer\n",
    "    vectorizer = CountVectorizer()\n",
    "    bag_of_words = vectorizer.fit_transform(files).todense()\n",
    "    dataframe = pd.DataFrame(bag_of_words, columns=vectorizer.get_feature_names())\n",
    "    \n",
    "    if is_spam_files:\n",
    "        dataframe['spam'] = 1\n",
    "    else:\n",
    "        dataframe['spam'] = 0\n",
    "        \n",
    "    return dataframe"
   ]
  },
  {
   "cell_type": "code",
   "execution_count": 0,
   "metadata": {
    "colab": {},
    "colab_type": "code",
    "id": "yJrXUB0gq-Ow"
   },
   "outputs": [],
   "source": [
    "first_easy_ham_dataset = get_bag_of_words_dataset(first_easy_ham_messages, False)\n",
    "second_easy_ham_dataset = get_bag_of_words_dataset(second_easy_ham_messages, False)\n",
    "first_hard_ham_dataset = get_bag_of_words_dataset(first_hard_ham_messages, False)\n",
    "second_hard_ham_dataset = get_bag_of_words_dataset(second_hard_ham_messages, False)\n",
    "first_spam_dataset = get_bag_of_words_dataset(first_spam_messages, True)\n",
    "second_spam_dataset = get_bag_of_words_dataset(second_spam_messages, True)"
   ]
  },
  {
   "cell_type": "markdown",
   "metadata": {},
   "source": [
    "Usemos el método head() de Pandas para ver como quedaron nuestros dataframes después de pasar por el modelo de Bag Of Words, tomaremos también un dataset que no es spam y otro que si para asegurarnos que la categoria spam quedo asignada correctamente."
   ]
  },
  {
   "cell_type": "code",
   "execution_count": 0,
   "metadata": {
    "colab": {
     "base_uri": "https://localhost:8080/",
     "height": 233
    },
    "colab_type": "code",
    "id": "2lYMSrZxq-O2",
    "outputId": "90e9e9fb-0035-44b7-fd12-d662f906f5aa"
   },
   "outputs": [
    {
     "data": {
      "text/html": [
       "<div>\n",
       "<style scoped>\n",
       "    .dataframe tbody tr th:only-of-type {\n",
       "        vertical-align: middle;\n",
       "    }\n",
       "\n",
       "    .dataframe tbody tr th {\n",
       "        vertical-align: top;\n",
       "    }\n",
       "\n",
       "    .dataframe thead th {\n",
       "        text-align: right;\n",
       "    }\n",
       "</style>\n",
       "<table border=\"1\" class=\"dataframe\">\n",
       "  <thead>\n",
       "    <tr style=\"text-align: right;\">\n",
       "      <th></th>\n",
       "      <th>aa</th>\n",
       "      <th>aardvark</th>\n",
       "      <th>abandon</th>\n",
       "      <th>abba</th>\n",
       "      <th>abbrevi</th>\n",
       "      <th>abduct</th>\n",
       "      <th>abil</th>\n",
       "      <th>abl</th>\n",
       "      <th>abod</th>\n",
       "      <th>abound</th>\n",
       "      <th>...</th>\n",
       "      <th>yummi</th>\n",
       "      <th>zealot</th>\n",
       "      <th>zenith</th>\n",
       "      <th>zero</th>\n",
       "      <th>zig</th>\n",
       "      <th>zip</th>\n",
       "      <th>zone</th>\n",
       "      <th>zoom</th>\n",
       "      <th>zorro</th>\n",
       "      <th>spam</th>\n",
       "    </tr>\n",
       "  </thead>\n",
       "  <tbody>\n",
       "    <tr>\n",
       "      <th>0</th>\n",
       "      <td>0</td>\n",
       "      <td>0</td>\n",
       "      <td>0</td>\n",
       "      <td>0</td>\n",
       "      <td>0</td>\n",
       "      <td>0</td>\n",
       "      <td>0</td>\n",
       "      <td>0</td>\n",
       "      <td>1</td>\n",
       "      <td>0</td>\n",
       "      <td>...</td>\n",
       "      <td>0</td>\n",
       "      <td>0</td>\n",
       "      <td>0</td>\n",
       "      <td>0</td>\n",
       "      <td>0</td>\n",
       "      <td>0</td>\n",
       "      <td>0</td>\n",
       "      <td>0</td>\n",
       "      <td>0</td>\n",
       "      <td>0</td>\n",
       "    </tr>\n",
       "    <tr>\n",
       "      <th>1</th>\n",
       "      <td>0</td>\n",
       "      <td>0</td>\n",
       "      <td>0</td>\n",
       "      <td>1</td>\n",
       "      <td>0</td>\n",
       "      <td>0</td>\n",
       "      <td>0</td>\n",
       "      <td>0</td>\n",
       "      <td>0</td>\n",
       "      <td>0</td>\n",
       "      <td>...</td>\n",
       "      <td>0</td>\n",
       "      <td>0</td>\n",
       "      <td>0</td>\n",
       "      <td>0</td>\n",
       "      <td>0</td>\n",
       "      <td>0</td>\n",
       "      <td>0</td>\n",
       "      <td>0</td>\n",
       "      <td>0</td>\n",
       "      <td>0</td>\n",
       "    </tr>\n",
       "    <tr>\n",
       "      <th>2</th>\n",
       "      <td>0</td>\n",
       "      <td>0</td>\n",
       "      <td>0</td>\n",
       "      <td>0</td>\n",
       "      <td>0</td>\n",
       "      <td>0</td>\n",
       "      <td>0</td>\n",
       "      <td>0</td>\n",
       "      <td>0</td>\n",
       "      <td>0</td>\n",
       "      <td>...</td>\n",
       "      <td>0</td>\n",
       "      <td>0</td>\n",
       "      <td>0</td>\n",
       "      <td>0</td>\n",
       "      <td>0</td>\n",
       "      <td>0</td>\n",
       "      <td>0</td>\n",
       "      <td>0</td>\n",
       "      <td>0</td>\n",
       "      <td>0</td>\n",
       "    </tr>\n",
       "    <tr>\n",
       "      <th>3</th>\n",
       "      <td>0</td>\n",
       "      <td>0</td>\n",
       "      <td>0</td>\n",
       "      <td>0</td>\n",
       "      <td>0</td>\n",
       "      <td>0</td>\n",
       "      <td>0</td>\n",
       "      <td>0</td>\n",
       "      <td>0</td>\n",
       "      <td>0</td>\n",
       "      <td>...</td>\n",
       "      <td>0</td>\n",
       "      <td>0</td>\n",
       "      <td>0</td>\n",
       "      <td>0</td>\n",
       "      <td>0</td>\n",
       "      <td>0</td>\n",
       "      <td>0</td>\n",
       "      <td>0</td>\n",
       "      <td>0</td>\n",
       "      <td>0</td>\n",
       "    </tr>\n",
       "    <tr>\n",
       "      <th>4</th>\n",
       "      <td>0</td>\n",
       "      <td>0</td>\n",
       "      <td>0</td>\n",
       "      <td>0</td>\n",
       "      <td>0</td>\n",
       "      <td>0</td>\n",
       "      <td>0</td>\n",
       "      <td>0</td>\n",
       "      <td>0</td>\n",
       "      <td>0</td>\n",
       "      <td>...</td>\n",
       "      <td>0</td>\n",
       "      <td>0</td>\n",
       "      <td>0</td>\n",
       "      <td>0</td>\n",
       "      <td>0</td>\n",
       "      <td>0</td>\n",
       "      <td>0</td>\n",
       "      <td>0</td>\n",
       "      <td>0</td>\n",
       "      <td>0</td>\n",
       "    </tr>\n",
       "  </tbody>\n",
       "</table>\n",
       "<p>5 rows × 6296 columns</p>\n",
       "</div>"
      ],
      "text/plain": [
       "   aa  aardvark  abandon  abba  abbrevi  abduct  abil  abl  abod  abound  \\\n",
       "0   0         0        0     0        0       0     0    0     1       0   \n",
       "1   0         0        0     1        0       0     0    0     0       0   \n",
       "2   0         0        0     0        0       0     0    0     0       0   \n",
       "3   0         0        0     0        0       0     0    0     0       0   \n",
       "4   0         0        0     0        0       0     0    0     0       0   \n",
       "\n",
       "   ...   yummi  zealot  zenith  zero  zig  zip  zone  zoom  zorro  spam  \n",
       "0  ...       0       0       0     0    0    0     0     0      0     0  \n",
       "1  ...       0       0       0     0    0    0     0     0      0     0  \n",
       "2  ...       0       0       0     0    0    0     0     0      0     0  \n",
       "3  ...       0       0       0     0    0    0     0     0      0     0  \n",
       "4  ...       0       0       0     0    0    0     0     0      0     0  \n",
       "\n",
       "[5 rows x 6296 columns]"
      ]
     },
     "execution_count": 14,
     "metadata": {
      "tags": []
     },
     "output_type": "execute_result"
    }
   ],
   "source": [
    "second_hard_ham_dataset.head()"
   ]
  },
  {
   "cell_type": "code",
   "execution_count": 0,
   "metadata": {
    "colab": {
     "base_uri": "https://localhost:8080/",
     "height": 233
    },
    "colab_type": "code",
    "id": "7f6dwrTaq-O-",
    "outputId": "18b34c73-3455-4a1c-e94d-d3d78ecd2404"
   },
   "outputs": [
    {
     "data": {
      "text/html": [
       "<div>\n",
       "<style scoped>\n",
       "    .dataframe tbody tr th:only-of-type {\n",
       "        vertical-align: middle;\n",
       "    }\n",
       "\n",
       "    .dataframe tbody tr th {\n",
       "        vertical-align: top;\n",
       "    }\n",
       "\n",
       "    .dataframe thead th {\n",
       "        text-align: right;\n",
       "    }\n",
       "</style>\n",
       "<table border=\"1\" class=\"dataframe\">\n",
       "  <thead>\n",
       "    <tr style=\"text-align: right;\">\n",
       "      <th></th>\n",
       "      <th>aa</th>\n",
       "      <th>abandon</th>\n",
       "      <th>abat</th>\n",
       "      <th>abid</th>\n",
       "      <th>abil</th>\n",
       "      <th>abl</th>\n",
       "      <th>abnorm</th>\n",
       "      <th>aborigin</th>\n",
       "      <th>abroad</th>\n",
       "      <th>absenc</th>\n",
       "      <th>...</th>\n",
       "      <th>young</th>\n",
       "      <th>younger</th>\n",
       "      <th>youth</th>\n",
       "      <th>za</th>\n",
       "      <th>zero</th>\n",
       "      <th>zimbabw</th>\n",
       "      <th>zip</th>\n",
       "      <th>zone</th>\n",
       "      <th>zowi</th>\n",
       "      <th>spam</th>\n",
       "    </tr>\n",
       "  </thead>\n",
       "  <tbody>\n",
       "    <tr>\n",
       "      <th>0</th>\n",
       "      <td>0</td>\n",
       "      <td>0</td>\n",
       "      <td>0</td>\n",
       "      <td>0</td>\n",
       "      <td>0</td>\n",
       "      <td>0</td>\n",
       "      <td>0</td>\n",
       "      <td>0</td>\n",
       "      <td>0</td>\n",
       "      <td>0</td>\n",
       "      <td>...</td>\n",
       "      <td>0</td>\n",
       "      <td>0</td>\n",
       "      <td>0</td>\n",
       "      <td>0</td>\n",
       "      <td>0</td>\n",
       "      <td>0</td>\n",
       "      <td>0</td>\n",
       "      <td>0</td>\n",
       "      <td>0</td>\n",
       "      <td>1</td>\n",
       "    </tr>\n",
       "    <tr>\n",
       "      <th>1</th>\n",
       "      <td>0</td>\n",
       "      <td>0</td>\n",
       "      <td>0</td>\n",
       "      <td>0</td>\n",
       "      <td>0</td>\n",
       "      <td>0</td>\n",
       "      <td>0</td>\n",
       "      <td>0</td>\n",
       "      <td>0</td>\n",
       "      <td>0</td>\n",
       "      <td>...</td>\n",
       "      <td>0</td>\n",
       "      <td>0</td>\n",
       "      <td>0</td>\n",
       "      <td>0</td>\n",
       "      <td>0</td>\n",
       "      <td>0</td>\n",
       "      <td>0</td>\n",
       "      <td>0</td>\n",
       "      <td>0</td>\n",
       "      <td>1</td>\n",
       "    </tr>\n",
       "    <tr>\n",
       "      <th>2</th>\n",
       "      <td>0</td>\n",
       "      <td>0</td>\n",
       "      <td>0</td>\n",
       "      <td>0</td>\n",
       "      <td>0</td>\n",
       "      <td>0</td>\n",
       "      <td>0</td>\n",
       "      <td>0</td>\n",
       "      <td>0</td>\n",
       "      <td>0</td>\n",
       "      <td>...</td>\n",
       "      <td>0</td>\n",
       "      <td>0</td>\n",
       "      <td>0</td>\n",
       "      <td>0</td>\n",
       "      <td>0</td>\n",
       "      <td>0</td>\n",
       "      <td>0</td>\n",
       "      <td>0</td>\n",
       "      <td>0</td>\n",
       "      <td>1</td>\n",
       "    </tr>\n",
       "    <tr>\n",
       "      <th>3</th>\n",
       "      <td>0</td>\n",
       "      <td>0</td>\n",
       "      <td>0</td>\n",
       "      <td>0</td>\n",
       "      <td>0</td>\n",
       "      <td>0</td>\n",
       "      <td>0</td>\n",
       "      <td>0</td>\n",
       "      <td>0</td>\n",
       "      <td>0</td>\n",
       "      <td>...</td>\n",
       "      <td>0</td>\n",
       "      <td>0</td>\n",
       "      <td>0</td>\n",
       "      <td>0</td>\n",
       "      <td>0</td>\n",
       "      <td>0</td>\n",
       "      <td>0</td>\n",
       "      <td>0</td>\n",
       "      <td>0</td>\n",
       "      <td>1</td>\n",
       "    </tr>\n",
       "    <tr>\n",
       "      <th>4</th>\n",
       "      <td>0</td>\n",
       "      <td>0</td>\n",
       "      <td>0</td>\n",
       "      <td>0</td>\n",
       "      <td>0</td>\n",
       "      <td>0</td>\n",
       "      <td>0</td>\n",
       "      <td>0</td>\n",
       "      <td>0</td>\n",
       "      <td>0</td>\n",
       "      <td>...</td>\n",
       "      <td>0</td>\n",
       "      <td>0</td>\n",
       "      <td>0</td>\n",
       "      <td>0</td>\n",
       "      <td>0</td>\n",
       "      <td>0</td>\n",
       "      <td>0</td>\n",
       "      <td>0</td>\n",
       "      <td>0</td>\n",
       "      <td>1</td>\n",
       "    </tr>\n",
       "  </tbody>\n",
       "</table>\n",
       "<p>5 rows × 4019 columns</p>\n",
       "</div>"
      ],
      "text/plain": [
       "   aa  abandon  abat  abid  abil  abl  abnorm  aborigin  abroad  absenc  ...   \\\n",
       "0   0        0     0     0     0    0       0         0       0       0  ...    \n",
       "1   0        0     0     0     0    0       0         0       0       0  ...    \n",
       "2   0        0     0     0     0    0       0         0       0       0  ...    \n",
       "3   0        0     0     0     0    0       0         0       0       0  ...    \n",
       "4   0        0     0     0     0    0       0         0       0       0  ...    \n",
       "\n",
       "   young  younger  youth  za  zero  zimbabw  zip  zone  zowi  spam  \n",
       "0      0        0      0   0     0        0    0     0     0     1  \n",
       "1      0        0      0   0     0        0    0     0     0     1  \n",
       "2      0        0      0   0     0        0    0     0     0     1  \n",
       "3      0        0      0   0     0        0    0     0     0     1  \n",
       "4      0        0      0   0     0        0    0     0     0     1  \n",
       "\n",
       "[5 rows x 4019 columns]"
      ]
     },
     "execution_count": 15,
     "metadata": {
      "tags": []
     },
     "output_type": "execute_result"
    }
   ],
   "source": [
    "first_spam_dataset.head()"
   ]
  },
  {
   "cell_type": "markdown",
   "metadata": {},
   "source": [
    "Agruparemos todos los dataframes en uno sólo con la finalidad de dividir más adelante el dataset en uno de entrenamiento y otro de validación tomando los datos de forma aleatoria."
   ]
  },
  {
   "cell_type": "code",
   "execution_count": 0,
   "metadata": {
    "colab": {},
    "colab_type": "code",
    "id": "BBHC_rULq-PH"
   },
   "outputs": [],
   "source": [
    "all_df= [first_easy_ham_dataset, second_easy_ham_dataset, first_hard_ham_dataset,\n",
    "        second_hard_ham_dataset, first_spam_dataset, second_spam_dataset]\n",
    "spam_df = pd.concat(all_df, axis=0, ignore_index=True)"
   ]
  },
  {
   "cell_type": "markdown",
   "metadata": {},
   "source": [
    "ahora observaremos un heatmap de los valores nulos en el dataset puesto que después de la agrupación esto puede ocurrirle a los valores de las columnas que no existian en otro dataset, es decir, si una palabra no existia en un dataset, al agruparse con otro, los valores que tomará serán nulos en vez de cero."
   ]
  },
  {
   "cell_type": "code",
   "execution_count": 0,
   "metadata": {
    "colab": {
     "base_uri": "https://localhost:8080/",
     "height": 429
    },
    "colab_type": "code",
    "id": "AIJzNeLdq-PT",
    "outputId": "94aadd41-4bf4-4caa-9076-c2a39d4f2087"
   },
   "outputs": [
    {
     "data": {
      "text/plain": [
       "<matplotlib.axes._subplots.AxesSubplot at 0x7fa300c966a0>"
      ]
     },
     "execution_count": 17,
     "metadata": {
      "tags": []
     },
     "output_type": "execute_result"
    },
    {
     "data": {
      "image/png": "[encoded data removed]",
      "text/plain": [
       "<Figure size 576x396 with 1 Axes>"
      ]
     },
     "metadata": {
      "tags": []
     },
     "output_type": "display_data"
    }
   ],
   "source": [
    "import seaborn as sns\n",
    "sns.heatmap(spam_df.isna(),yticklabels=False,cbar=False,cmap='viridis')"
   ]
  },
  {
   "cell_type": "markdown",
   "metadata": {},
   "source": [
    "El color amarillo en el heatmap representa los valores nulos en el dataset, a continuación observaremos una muestra de cuantos valores nulos hay en cada columna."
   ]
  },
  {
   "cell_type": "code",
   "execution_count": 0,
   "metadata": {
    "colab": {
     "base_uri": "https://localhost:8080/",
     "height": 1071
    },
    "colab_type": "code",
    "id": "yM211irCMXP9",
    "outputId": "ef940605-43d4-4d76-f8bf-81d77a14fe91"
   },
   "outputs": [
    {
     "name": "stdout",
     "output_type": "stream",
     "text": [
      "aa             0\n",
      "aardvark    5678\n",
      "abandon        0\n",
      "abat        4390\n",
      "abba        5678\n",
      "abbey       3671\n",
      "abbrevi     5678\n",
      "abdomin     3671\n",
      "abduct      4279\n",
      "aberr       3671\n",
      "abhorr      4771\n",
      "abid        1819\n",
      "abil           0\n",
      "abject      2272\n",
      "abl            0\n",
      "abli        4843\n",
      "abneg       4843\n",
      "abnorm      2991\n",
      "aboard      2344\n",
      "abod        4279\n",
      "abolish     3671\n",
      "abolit      3671\n",
      "aborigin    1891\n",
      "abort        945\n",
      "abound      1780\n",
      "abreast     4351\n",
      "abridg      3671\n",
      "abroad       246\n",
      "abruptli    4771\n",
      "abscond     4843\n",
      "            ... \n",
      "yorker      3671\n",
      "young          0\n",
      "younger        0\n",
      "youth          0\n",
      "yr           945\n",
      "yuck        3671\n",
      "yucki       3444\n",
      "yummi       5678\n",
      "za          2991\n",
      "zeal        4771\n",
      "zealot      1780\n",
      "zealou      2272\n",
      "zebra       3671\n",
      "zed         3671\n",
      "zee         4771\n",
      "zenith      5678\n",
      "zero           0\n",
      "zest        4843\n",
      "zeta        3671\n",
      "zig         5678\n",
      "zimbabw      492\n",
      "zinc        4843\n",
      "zip            0\n",
      "zodiac      3671\n",
      "zombi       5924\n",
      "zone           0\n",
      "zoo         2272\n",
      "zoom        4279\n",
      "zorro       5678\n",
      "zowi        4318\n",
      "Length: 12247, dtype: int64\n"
     ]
    }
   ],
   "source": [
    "print(spam_df.isna().sum())"
   ]
  },
  {
   "cell_type": "markdown",
   "metadata": {},
   "source": [
    "El dataset no se puede dejar con esos valores nulos, por lo que procederemos a llenar esos valores con ceros y veremos de nuevo el heatmap."
   ]
  },
  {
   "cell_type": "code",
   "execution_count": 0,
   "metadata": {
    "colab": {},
    "colab_type": "code",
    "id": "ci_ogLDyq-PM"
   },
   "outputs": [],
   "source": [
    "spam_df = spam_df.fillna(value=0)"
   ]
  },
  {
   "cell_type": "code",
   "execution_count": 0,
   "metadata": {
    "colab": {
     "base_uri": "https://localhost:8080/",
     "height": 429
    },
    "colab_type": "code",
    "id": "_v0F6q4oR9sy",
    "outputId": "14b087c8-3989-4a3a-b23a-c0e526f9c8c6"
   },
   "outputs": [
    {
     "data": {
      "text/plain": [
       "<matplotlib.axes._subplots.AxesSubplot at 0x7fa2fb3f4cc0>"
      ]
     },
     "execution_count": 20,
     "metadata": {
      "tags": []
     },
     "output_type": "execute_result"
    },
    {
     "data": {
      "image/png": "[encoded data removed]",
      "text/plain": [
       "<Figure size 576x396 with 1 Axes>"
      ]
     },
     "metadata": {
      "tags": []
     },
     "output_type": "display_data"
    }
   ],
   "source": [
    "sns.heatmap(spam_df.isna(),yticklabels=False,cbar=False,cmap='viridis')"
   ]
  },
  {
   "cell_type": "markdown",
   "metadata": {},
   "source": [
    "Podemos observar que ya no existe ningún valor nulo en el dataset.\n",
    "\n",
    "Ahora, teniendo en cuenta que la red neuronal da mejores resultados con valores entre 0 y 1 procedemos a normalizar el los valores del dataset exceptuando la variable categorica (spam)"
   ]
  },
  {
   "cell_type": "code",
   "execution_count": 0,
   "metadata": {
    "colab": {
     "base_uri": "https://localhost:8080/",
     "height": 68
    },
    "colab_type": "code",
    "id": "zdvTLz-7dSDd",
    "outputId": "55881f85-39a0-4ac1-d873-d3fb2fcf9355"
   },
   "outputs": [
    {
     "name": "stderr",
     "output_type": "stream",
     "text": [
      "/usr/local/lib/python3.6/dist-packages/sklearn/preprocessing/data.py:645: DataConversionWarning: Data with input dtype int64, float64 were all converted to float64 by StandardScaler.\n",
      "  return self.partial_fit(X, y)\n"
     ]
    },
    {
     "data": {
      "text/plain": [
       "StandardScaler(copy=True, with_mean=True, with_std=True)"
      ]
     },
     "execution_count": 12,
     "metadata": {
      "tags": []
     },
     "output_type": "execute_result"
    }
   ],
   "source": [
    "from sklearn.preprocessing import StandardScaler\n",
    "scaler = StandardScaler()\n",
    "scaler.fit(spam_df.drop('spam', axis=1))"
   ]
  },
  {
   "cell_type": "code",
   "execution_count": 0,
   "metadata": {
    "colab": {
     "base_uri": "https://localhost:8080/",
     "height": 51
    },
    "colab_type": "code",
    "id": "FSqdEoXmd3WQ",
    "outputId": "63d09460-4f5a-49c3-b226-45f3a94556a4"
   },
   "outputs": [
    {
     "name": "stderr",
     "output_type": "stream",
     "text": [
      "/usr/local/lib/python3.6/dist-packages/ipykernel_launcher.py:1: DataConversionWarning: Data with input dtype int64, float64 were all converted to float64 by StandardScaler.\n",
      "  \"\"\"Entry point for launching an IPython kernel.\n"
     ]
    }
   ],
   "source": [
    "scaled_features = scaler.transform(spam_df.drop('spam',axis=1))\n",
    "df_feat = pd.DataFrame(scaled_features,columns=spam_df.columns.drop('spam'))"
   ]
  },
  {
   "cell_type": "code",
   "execution_count": 0,
   "metadata": {
    "colab": {
     "base_uri": "https://localhost:8080/",
     "height": 34
    },
    "colab_type": "code",
    "id": "deCqkbdOl330",
    "outputId": "e6782742-50d5-4f90-a929-afd1673a364f"
   },
   "outputs": [
    {
     "data": {
      "text/plain": [
       "(6170, 12246)"
      ]
     },
     "execution_count": 23,
     "metadata": {
      "tags": []
     },
     "output_type": "execute_result"
    }
   ],
   "source": [
    "df_feat.shape"
   ]
  },
  {
   "cell_type": "markdown",
   "metadata": {
    "colab_type": "text",
    "id": "BL2ro-gpq-Pe"
   },
   "source": [
    "# Train test split"
   ]
  },
  {
   "cell_type": "markdown",
   "metadata": {},
   "source": [
    "Procedemos a dividir nuestro dataset en datasets de entrenamiento y validación, obteniendo una muestra aleatoria del 70% de datos para entrenamiento y 30% para validación."
   ]
  },
  {
   "cell_type": "code",
   "execution_count": 0,
   "metadata": {
    "colab": {},
    "colab_type": "code",
    "id": "HHb-bSkDq-Pf"
   },
   "outputs": [],
   "source": [
    "from sklearn.model_selection import train_test_split\n",
    "X_train, X_test, y_train, y_test = train_test_split(scaled_features, \n",
    "                                                    spam_df['spam'], test_size=0.30)"
   ]
  },
  {
   "cell_type": "markdown",
   "metadata": {
    "colab_type": "text",
    "id": "TEwhrPnuq-Pi"
   },
   "source": [
    "# Regresión Logística\n",
    "\n",
    "A continuación usaremos el modelo de regresión logística de la librería Scikit learn, lo entrenaremos con nuestro dataset de entrenamiento."
   ]
  },
  {
   "cell_type": "code",
   "execution_count": 0,
   "metadata": {
    "colab": {
     "base_uri": "https://localhost:8080/",
     "height": 119
    },
    "colab_type": "code",
    "id": "v0k7N91hq-Pl",
    "outputId": "7b4c5b35-5b08-43b1-e82c-0f1df605efc2"
   },
   "outputs": [
    {
     "name": "stderr",
     "output_type": "stream",
     "text": [
      "/usr/local/lib/python3.6/dist-packages/sklearn/linear_model/logistic.py:433: FutureWarning: Default solver will be changed to 'lbfgs' in 0.22. Specify a solver to silence this warning.\n",
      "  FutureWarning)\n"
     ]
    },
    {
     "data": {
      "text/plain": [
       "LogisticRegression(C=1.0, class_weight=None, dual=False, fit_intercept=True,\n",
       "          intercept_scaling=1, max_iter=100, multi_class='warn',\n",
       "          n_jobs=None, penalty='l2', random_state=None, solver='warn',\n",
       "          tol=0.0001, verbose=0, warm_start=False)"
      ]
     },
     "execution_count": 15,
     "metadata": {
      "tags": []
     },
     "output_type": "execute_result"
    }
   ],
   "source": [
    "from sklearn.linear_model import LogisticRegression\n",
    "logmodel = LogisticRegression()\n",
    "logmodel.fit(X_train,y_train)"
   ]
  },
  {
   "cell_type": "markdown",
   "metadata": {},
   "source": [
    "Ahora que el modelo de regresión logística se ha entrenado, vamos a hacer predicciones pero con los features del dataset de validación, hay que tener en cuenta que este dataset es completamente desconocido para nuestro modelo de regresión logistica, además, desconoce los resultados."
   ]
  },
  {
   "cell_type": "code",
   "execution_count": 0,
   "metadata": {
    "colab": {},
    "colab_type": "code",
    "id": "f5mM4H57q-Pt"
   },
   "outputs": [],
   "source": [
    "predictions = logmodel.predict(X_test)"
   ]
  },
  {
   "cell_type": "markdown",
   "metadata": {
    "colab_type": "text",
    "id": "AVUR-GUnq-Pv"
   },
   "source": [
    "# Métricas\n",
    "\n",
    "Teniendo las predicciones hechas con nuestro dataset de validación, vamos a comparar estas predicciones con los valores reales del dataset de validación, es decir, con la variable categorica del dataset. \n",
    "\n",
    "Para hacer esta comparación usaremos dos métricas alojadas en la librería Scikit Learn, una de ellas es el reporte de clasificación que nos dará una idea del rendimiento y la precisión que obtuvo nuestro modelo de regresión logistica cuando comparamos las predicciones del modelo con los valores reales.\n",
    "\n",
    "Otra métrica que usaremos será la matriz de confusión para darnos una idea de cuandos falsos positivos y falsos negativos tuvo las predicciones de nuestro modelo."
   ]
  },
  {
   "cell_type": "code",
   "execution_count": 0,
   "metadata": {
    "colab": {
     "base_uri": "https://localhost:8080/",
     "height": 170
    },
    "colab_type": "code",
    "id": "0wB78qJRq-Pw",
    "outputId": "18c0a538-b1d9-4541-de3a-5514e6ba70d6"
   },
   "outputs": [
    {
     "name": "stdout",
     "output_type": "stream",
     "text": [
      "              precision    recall  f1-score   support\n",
      "\n",
      "           0       0.99      0.91      0.95      1318\n",
      "           1       0.81      0.97      0.88       533\n",
      "\n",
      "   micro avg       0.93      0.93      0.93      1851\n",
      "   macro avg       0.90      0.94      0.92      1851\n",
      "weighted avg       0.94      0.93      0.93      1851\n",
      "\n"
     ]
    }
   ],
   "source": [
    "from sklearn.metrics import classification_report, confusion_matrix\n",
    "print(classification_report(y_test,predictions))"
   ]
  },
  {
   "cell_type": "code",
   "execution_count": 0,
   "metadata": {
    "colab": {
     "base_uri": "https://localhost:8080/",
     "height": 51
    },
    "colab_type": "code",
    "id": "qaWjRIMQMiL2",
    "outputId": "985387f8-e5fa-4ddc-c451-491c9a2fc443"
   },
   "outputs": [
    {
     "name": "stdout",
     "output_type": "stream",
     "text": [
      "[[1201  117]\n",
      " [  18  515]]\n"
     ]
    }
   ],
   "source": [
    "print(confusion_matrix(y_test, predictions))"
   ]
  },
  {
   "cell_type": "markdown",
   "metadata": {},
   "source": [
    "Podemos observar que nuestro modelo obtuvo una precisión del 94% con 117 falsos positivos y 18 falsos negativos."
   ]
  },
  {
   "cell_type": "markdown",
   "metadata": {
    "colab_type": "text",
    "id": "-zAKXrPXMNj_"
   },
   "source": [
    "# Redes Neuronales\n",
    "\n",
    "Para la creación de la red neuronal usaremos Keras.\n",
    "\n",
    "La red neuronal que haremos será un perceptrón multicapa con una sóla capa oculta, ésta consta de:\n",
    "\n",
    "* Una capa de entrada con 12246 neuronas, una para cada feature del dataset.\n",
    "* Una capa oculta con una cantidad de neuronas que vamos a variar y de las cuales vamos a obtener métricas, los posibles valores a tener en cuenta serán [32, 2064, 6124, 12246]\n",
    "* Una capa de salida con 2 neuronas de salida, uno por cada categoria (1 si es spam y 0 si no lo es). Esto porque usaremos softmax como función de activación"
   ]
  },
  {
   "cell_type": "code",
   "execution_count": 0,
   "metadata": {
    "colab": {},
    "colab_type": "code",
    "id": "LtX2e2pCVvte"
   },
   "outputs": [],
   "source": [
    "import matplotlib.pyplot as plt\n",
    "%matplotlib inline"
   ]
  },
  {
   "cell_type": "code",
   "execution_count": 0,
   "metadata": {
    "colab": {},
    "colab_type": "code",
    "id": "oMkSMUmHsf5G"
   },
   "outputs": [],
   "source": [
    "def print_history(fitted_model, units):\n",
    "    plt.plot(fitted_model.history['acc'])\n",
    "    plt.plot(fitted_model.history['val_acc'])\n",
    "    plt.title('Precision del modelo con {} unidades'.format(units))\n",
    "    plt.ylabel('Precisión')\n",
    "    plt.xlabel('Epoch')\n",
    "    plt.legend(['Entrenamiento', 'Validación'], loc='lower right')\n",
    "    plt.show()"
   ]
  },
  {
   "cell_type": "code",
   "execution_count": 0,
   "metadata": {
    "colab": {
     "base_uri": "https://localhost:8080/",
     "height": 34
    },
    "colab_type": "code",
    "id": "dDjVUOJjMLgg",
    "outputId": "6c8db192-f3f8-427a-9d33-d3d6f7db190e"
   },
   "outputs": [
    {
     "name": "stderr",
     "output_type": "stream",
     "text": [
      "Using TensorFlow backend.\n"
     ]
    }
   ],
   "source": [
    "import keras\n",
    "\n",
    "num_classes = 2\n",
    "\n",
    "y_train = keras.utils.to_categorical(y_train, num_classes)\n",
    "y_test = keras.utils.to_categorical(y_test, num_classes)"
   ]
  },
  {
   "cell_type": "code",
   "execution_count": 0,
   "metadata": {
    "colab": {},
    "colab_type": "code",
    "id": "QwocxmfcWZ1Z"
   },
   "outputs": [],
   "source": [
    "from keras.layers import Dense # Capa de red neuronal regular\n",
    "from keras.models import Sequential # Configura el modelo para el entrenamiento\n",
    "\n",
    "number_of_features = df_feat.shape[1]\n",
    "quantity_of_units = [32, 2064, 6124, number_of_features] # Diferentes valores de unit para evaluar el modelo"
   ]
  },
  {
   "cell_type": "code",
   "execution_count": 0,
   "metadata": {
    "colab": {
     "base_uri": "https://localhost:8080/",
     "height": 8095
    },
    "colab_type": "code",
    "id": "FQGwoFa1WkoD",
    "outputId": "634acf02-ab96-4280-aedb-7bc2b18640a3"
   },
   "outputs": [
    {
     "name": "stdout",
     "output_type": "stream",
     "text": [
      "WARNING:tensorflow:From /usr/local/lib/python3.6/dist-packages/tensorflow/python/framework/op_def_library.py:263: colocate_with (from tensorflow.python.framework.ops) is deprecated and will be removed in a future version.\n",
      "Instructions for updating:\n",
      "Colocations handled automatically by placer.\n",
      "WARNING:tensorflow:From /usr/local/lib/python3.6/dist-packages/tensorflow/python/ops/math_ops.py:3066: to_int32 (from tensorflow.python.ops.math_ops) is deprecated and will be removed in a future version.\n",
      "Instructions for updating:\n",
      "Use tf.cast instead.\n",
      "Train on 4319 samples, validate on 1851 samples\n",
      "Epoch 1/50\n",
      "4319/4319 [==============================] - 2s 438us/step - loss: 0.5012 - acc: 0.8488 - val_loss: 0.8186 - val_acc: 0.8487\n",
      "Epoch 2/50\n",
      "4319/4319 [==============================] - 1s 128us/step - loss: 0.2262 - acc: 0.9692 - val_loss: 0.9465 - val_acc: 0.8709\n",
      "Epoch 3/50\n",
      "4319/4319 [==============================] - 1s 126us/step - loss: 0.1667 - acc: 0.9843 - val_loss: 0.9190 - val_acc: 0.8709\n",
      "Epoch 4/50\n",
      "4319/4319 [==============================] - 1s 124us/step - loss: 0.1582 - acc: 0.9873 - val_loss: 0.9179 - val_acc: 0.8725\n",
      "Epoch 5/50\n",
      "4319/4319 [==============================] - 0s 114us/step - loss: 0.1549 - acc: 0.9875 - val_loss: 0.9191 - val_acc: 0.8736\n",
      "Epoch 6/50\n",
      "4319/4319 [==============================] - 0s 116us/step - loss: 0.1522 - acc: 0.9882 - val_loss: 0.9177 - val_acc: 0.8736\n",
      "Epoch 7/50\n",
      "4319/4319 [==============================] - 0s 115us/step - loss: 0.1514 - acc: 0.9882 - val_loss: 0.9201 - val_acc: 0.8736\n",
      "Epoch 8/50\n",
      "4319/4319 [==============================] - 1s 117us/step - loss: 0.1511 - acc: 0.9893 - val_loss: 0.9474 - val_acc: 0.8682\n",
      "Epoch 9/50\n",
      "4319/4319 [==============================] - 0s 115us/step - loss: 0.1504 - acc: 0.9893 - val_loss: 0.9205 - val_acc: 0.8736\n",
      "Epoch 10/50\n",
      "4319/4319 [==============================] - 1s 118us/step - loss: 0.1490 - acc: 0.9891 - val_loss: 0.9250 - val_acc: 0.8725\n",
      "Epoch 11/50\n",
      "4319/4319 [==============================] - 0s 113us/step - loss: 0.1482 - acc: 0.9889 - val_loss: 0.9364 - val_acc: 0.8709\n",
      "Epoch 12/50\n",
      "4319/4319 [==============================] - 1s 117us/step - loss: 0.1481 - acc: 0.9893 - val_loss: 0.9253 - val_acc: 0.8736\n",
      "Epoch 13/50\n",
      "4319/4319 [==============================] - 0s 114us/step - loss: 0.1471 - acc: 0.9900 - val_loss: 0.9273 - val_acc: 0.8730\n",
      "Epoch 14/50\n",
      "4319/4319 [==============================] - 0s 114us/step - loss: 0.1467 - acc: 0.9905 - val_loss: 0.9270 - val_acc: 0.8741\n",
      "Epoch 15/50\n",
      "4319/4319 [==============================] - 0s 115us/step - loss: 0.1467 - acc: 0.9905 - val_loss: 0.9297 - val_acc: 0.8736\n",
      "Epoch 16/50\n",
      "4319/4319 [==============================] - 1s 117us/step - loss: 0.1460 - acc: 0.9905 - val_loss: 0.9294 - val_acc: 0.8730\n",
      "Epoch 17/50\n",
      "4319/4319 [==============================] - 1s 117us/step - loss: 0.1464 - acc: 0.9898 - val_loss: 0.9311 - val_acc: 0.8736\n",
      "Epoch 18/50\n",
      "4319/4319 [==============================] - 0s 113us/step - loss: 0.1457 - acc: 0.9905 - val_loss: 0.9354 - val_acc: 0.8720\n",
      "Epoch 19/50\n",
      "4319/4319 [==============================] - 0s 114us/step - loss: 0.1449 - acc: 0.9905 - val_loss: 0.9341 - val_acc: 0.8730\n",
      "Epoch 20/50\n",
      "4319/4319 [==============================] - 0s 116us/step - loss: 0.1465 - acc: 0.9905 - val_loss: 0.9364 - val_acc: 0.8747\n",
      "Epoch 21/50\n",
      "4319/4319 [==============================] - 0s 115us/step - loss: 0.1447 - acc: 0.9907 - val_loss: 0.9391 - val_acc: 0.8730\n",
      "Epoch 22/50\n",
      "4319/4319 [==============================] - 1s 117us/step - loss: 0.1448 - acc: 0.9907 - val_loss: 0.9365 - val_acc: 0.8747\n",
      "Epoch 23/50\n",
      "4319/4319 [==============================] - 0s 115us/step - loss: 0.1446 - acc: 0.9907 - val_loss: 0.9388 - val_acc: 0.8725\n",
      "Epoch 24/50\n",
      "4319/4319 [==============================] - 0s 113us/step - loss: 0.1452 - acc: 0.9903 - val_loss: 0.9445 - val_acc: 0.8725\n",
      "Epoch 25/50\n",
      "4319/4319 [==============================] - 1s 118us/step - loss: 0.1461 - acc: 0.9900 - val_loss: 0.9416 - val_acc: 0.8741\n",
      "Epoch 26/50\n",
      "4319/4319 [==============================] - 0s 115us/step - loss: 0.1451 - acc: 0.9907 - val_loss: 0.9436 - val_acc: 0.8730\n",
      "Epoch 27/50\n",
      "4319/4319 [==============================] - 0s 115us/step - loss: 0.1444 - acc: 0.9905 - val_loss: 0.9427 - val_acc: 0.8752\n",
      "Epoch 28/50\n",
      "4319/4319 [==============================] - 1s 117us/step - loss: 0.1443 - acc: 0.9907 - val_loss: 0.9452 - val_acc: 0.8725\n",
      "Epoch 29/50\n",
      "4319/4319 [==============================] - 1s 118us/step - loss: 0.1451 - acc: 0.9898 - val_loss: 0.9484 - val_acc: 0.8752\n",
      "Epoch 30/50\n",
      "4319/4319 [==============================] - 0s 115us/step - loss: 0.1441 - acc: 0.9907 - val_loss: 0.9503 - val_acc: 0.8747\n",
      "Epoch 31/50\n",
      "4319/4319 [==============================] - 0s 115us/step - loss: 0.1445 - acc: 0.9903 - val_loss: 0.9574 - val_acc: 0.8693\n",
      "Epoch 32/50\n",
      "4319/4319 [==============================] - 0s 112us/step - loss: 0.1449 - acc: 0.9900 - val_loss: 0.9553 - val_acc: 0.8736\n",
      "Epoch 33/50\n",
      "4319/4319 [==============================] - 1s 118us/step - loss: 0.1444 - acc: 0.9907 - val_loss: 0.9513 - val_acc: 0.8730\n",
      "Epoch 34/50\n",
      "4319/4319 [==============================] - 0s 111us/step - loss: 0.1451 - acc: 0.9898 - val_loss: 0.9551 - val_acc: 0.8725\n",
      "Epoch 35/50\n",
      "4319/4319 [==============================] - 1s 124us/step - loss: 0.1440 - acc: 0.9905 - val_loss: 0.9556 - val_acc: 0.8730\n",
      "Epoch 36/50\n",
      "4319/4319 [==============================] - 0s 113us/step - loss: 0.1438 - acc: 0.9907 - val_loss: 0.9568 - val_acc: 0.8741\n",
      "Epoch 37/50\n",
      "4319/4319 [==============================] - 1s 116us/step - loss: 0.1440 - acc: 0.9907 - val_loss: 0.9633 - val_acc: 0.8714\n",
      "Epoch 38/50\n",
      "4319/4319 [==============================] - 1s 116us/step - loss: 0.1438 - acc: 0.9905 - val_loss: 0.9570 - val_acc: 0.8741\n",
      "Epoch 39/50\n",
      "4319/4319 [==============================] - 1s 116us/step - loss: 0.1436 - acc: 0.9905 - val_loss: 0.9586 - val_acc: 0.8747\n",
      "Epoch 40/50\n",
      "4319/4319 [==============================] - 0s 115us/step - loss: 0.1442 - acc: 0.9907 - val_loss: 0.9721 - val_acc: 0.8682\n",
      "Epoch 41/50\n",
      "4319/4319 [==============================] - 1s 117us/step - loss: 0.1441 - acc: 0.9907 - val_loss: 0.9855 - val_acc: 0.8693\n",
      "Epoch 42/50\n",
      "4319/4319 [==============================] - 0s 114us/step - loss: 0.1444 - acc: 0.9907 - val_loss: 0.9564 - val_acc: 0.8741\n",
      "Epoch 43/50\n",
      "4319/4319 [==============================] - 1s 118us/step - loss: 0.1454 - acc: 0.9900 - val_loss: 0.9585 - val_acc: 0.8752\n",
      "Epoch 44/50\n",
      "4319/4319 [==============================] - 0s 113us/step - loss: 0.1431 - acc: 0.9907 - val_loss: 0.9884 - val_acc: 0.8595\n",
      "Epoch 45/50\n",
      "4319/4319 [==============================] - 1s 117us/step - loss: 0.1432 - acc: 0.9907 - val_loss: 0.9648 - val_acc: 0.8725\n",
      "Epoch 46/50\n",
      "4319/4319 [==============================] - 0s 114us/step - loss: 0.1439 - acc: 0.9910 - val_loss: 0.9605 - val_acc: 0.8736\n",
      "Epoch 47/50\n",
      "4319/4319 [==============================] - 1s 117us/step - loss: 0.1445 - acc: 0.9903 - val_loss: 0.9770 - val_acc: 0.8660\n",
      "Epoch 48/50\n",
      "4319/4319 [==============================] - 0s 113us/step - loss: 0.1440 - acc: 0.9907 - val_loss: 0.9780 - val_acc: 0.8730\n",
      "Epoch 49/50\n",
      "4319/4319 [==============================] - 0s 115us/step - loss: 0.1449 - acc: 0.9900 - val_loss: 1.0225 - val_acc: 0.8520\n",
      "Epoch 50/50\n",
      "4319/4319 [==============================] - 0s 113us/step - loss: 0.1439 - acc: 0.9910 - val_loss: 0.9776 - val_acc: 0.8741\n"
     ]
    },
    {
     "data": {
      "image/png": "[encoded data removed]",
      "text/plain": [
       "<Figure size 432x288 with 1 Axes>"
      ]
     },
     "metadata": {
      "tags": []
     },
     "output_type": "display_data"
    },
    {
     "name": "stdout",
     "output_type": "stream",
     "text": [
      "Train on 4319 samples, validate on 1851 samples\n",
      "Epoch 1/50\n",
      "4319/4319 [==============================] - 2s 572us/step - loss: 0.4553 - acc: 0.8861 - val_loss: 0.2380 - val_acc: 0.9508\n",
      "Epoch 2/50\n",
      "4319/4319 [==============================] - 2s 394us/step - loss: 0.2855 - acc: 0.9680 - val_loss: 0.2761 - val_acc: 0.9611\n",
      "Epoch 3/50\n",
      "4319/4319 [==============================] - 2s 394us/step - loss: 0.1521 - acc: 0.9829 - val_loss: 0.2770 - val_acc: 0.9665\n",
      "Epoch 4/50\n",
      "4319/4319 [==============================] - 2s 397us/step - loss: 0.0504 - acc: 0.9942 - val_loss: 0.2654 - val_acc: 0.9622\n",
      "Epoch 5/50\n",
      "4319/4319 [==============================] - 2s 397us/step - loss: 0.0448 - acc: 0.9940 - val_loss: 0.2227 - val_acc: 0.9692\n",
      "Epoch 6/50\n",
      "4319/4319 [==============================] - 2s 397us/step - loss: 0.0309 - acc: 0.9970 - val_loss: 0.2375 - val_acc: 0.9692\n",
      "Epoch 7/50\n",
      "4319/4319 [==============================] - 2s 393us/step - loss: 0.0308 - acc: 0.9970 - val_loss: 0.2316 - val_acc: 0.9681\n",
      "Epoch 8/50\n",
      "4319/4319 [==============================] - 2s 397us/step - loss: 0.0315 - acc: 0.9968 - val_loss: 0.2360 - val_acc: 0.9681\n",
      "Epoch 9/50\n",
      "4319/4319 [==============================] - 2s 391us/step - loss: 0.0299 - acc: 0.9975 - val_loss: 0.2314 - val_acc: 0.9703\n",
      "Epoch 10/50\n",
      "4319/4319 [==============================] - 2s 398us/step - loss: 0.0560 - acc: 0.9951 - val_loss: 0.5924 - val_acc: 0.9395\n",
      "Epoch 11/50\n",
      "4319/4319 [==============================] - 2s 393us/step - loss: 0.0760 - acc: 0.9940 - val_loss: 0.2920 - val_acc: 0.9643\n",
      "Epoch 12/50\n",
      "4319/4319 [==============================] - 2s 391us/step - loss: 0.0708 - acc: 0.9949 - val_loss: 0.3187 - val_acc: 0.9616\n",
      "Epoch 13/50\n",
      "4319/4319 [==============================] - 2s 398us/step - loss: 0.0558 - acc: 0.9954 - val_loss: 0.3634 - val_acc: 0.9481\n",
      "Epoch 14/50\n",
      "4319/4319 [==============================] - 2s 393us/step - loss: 0.0223 - acc: 0.9984 - val_loss: 0.2702 - val_acc: 0.9643\n",
      "Epoch 15/50\n",
      "4319/4319 [==============================] - 2s 394us/step - loss: 0.0219 - acc: 0.9981 - val_loss: 0.2658 - val_acc: 0.9643\n",
      "Epoch 16/50\n",
      "4319/4319 [==============================] - 2s 399us/step - loss: 0.0220 - acc: 0.9977 - val_loss: 0.2880 - val_acc: 0.9568\n",
      "Epoch 17/50\n",
      "4319/4319 [==============================] - 2s 396us/step - loss: 0.0213 - acc: 0.9977 - val_loss: 0.2982 - val_acc: 0.9573\n",
      "Epoch 18/50\n",
      "4319/4319 [==============================] - 2s 393us/step - loss: 0.0228 - acc: 0.9984 - val_loss: 0.2840 - val_acc: 0.9600\n",
      "Epoch 19/50\n",
      "4319/4319 [==============================] - 2s 399us/step - loss: 0.0206 - acc: 0.9984 - val_loss: 0.2748 - val_acc: 0.9649\n",
      "Epoch 20/50\n",
      "4319/4319 [==============================] - 2s 396us/step - loss: 0.0219 - acc: 0.9981 - val_loss: 0.2717 - val_acc: 0.9633\n",
      "Epoch 21/50\n",
      "4319/4319 [==============================] - 2s 397us/step - loss: 0.0244 - acc: 0.9972 - val_loss: 0.2789 - val_acc: 0.9616\n",
      "Epoch 22/50\n",
      "4319/4319 [==============================] - 2s 395us/step - loss: 0.0220 - acc: 0.9984 - val_loss: 0.2732 - val_acc: 0.9654\n",
      "Epoch 23/50\n",
      "4319/4319 [==============================] - 2s 397us/step - loss: 0.0209 - acc: 0.9981 - val_loss: 0.2753 - val_acc: 0.9643\n",
      "Epoch 24/50\n",
      "4319/4319 [==============================] - 2s 392us/step - loss: 0.0227 - acc: 0.9975 - val_loss: 0.2792 - val_acc: 0.9643\n",
      "Epoch 25/50\n",
      "4319/4319 [==============================] - 2s 396us/step - loss: 0.0249 - acc: 0.9968 - val_loss: 0.2771 - val_acc: 0.9665\n",
      "Epoch 26/50\n",
      "4319/4319 [==============================] - 2s 396us/step - loss: 0.0224 - acc: 0.9984 - val_loss: 0.2764 - val_acc: 0.9627\n",
      "Epoch 27/50\n",
      "4319/4319 [==============================] - 2s 394us/step - loss: 0.0241 - acc: 0.9965 - val_loss: 0.2900 - val_acc: 0.9638\n",
      "Epoch 28/50\n",
      "4319/4319 [==============================] - 2s 394us/step - loss: 0.0310 - acc: 0.9963 - val_loss: 0.2843 - val_acc: 0.9611\n",
      "Epoch 29/50\n",
      "4319/4319 [==============================] - 2s 398us/step - loss: 0.0243 - acc: 0.9981 - val_loss: 0.3228 - val_acc: 0.9535\n",
      "Epoch 30/50\n",
      "4319/4319 [==============================] - 2s 393us/step - loss: 0.0242 - acc: 0.9975 - val_loss: 0.2813 - val_acc: 0.9638\n",
      "Epoch 31/50\n",
      "4319/4319 [==============================] - 2s 400us/step - loss: 0.0240 - acc: 0.9975 - val_loss: 0.2869 - val_acc: 0.9616\n",
      "Epoch 32/50\n",
      "4319/4319 [==============================] - 2s 397us/step - loss: 0.0237 - acc: 0.9977 - val_loss: 0.2854 - val_acc: 0.9649\n",
      "Epoch 33/50\n",
      "4319/4319 [==============================] - 2s 396us/step - loss: 0.0209 - acc: 0.9981 - val_loss: 0.2938 - val_acc: 0.9595\n",
      "Epoch 34/50\n",
      "4319/4319 [==============================] - 2s 395us/step - loss: 0.0207 - acc: 0.9984 - val_loss: 0.2874 - val_acc: 0.9643\n",
      "Epoch 35/50\n",
      "4319/4319 [==============================] - 2s 394us/step - loss: 0.0218 - acc: 0.9977 - val_loss: 0.2792 - val_acc: 0.9638\n",
      "Epoch 36/50\n",
      "4319/4319 [==============================] - 2s 393us/step - loss: 0.0211 - acc: 0.9981 - val_loss: 0.2793 - val_acc: 0.9638\n",
      "Epoch 37/50\n",
      "4319/4319 [==============================] - 2s 393us/step - loss: 0.0236 - acc: 0.9977 - val_loss: 0.3013 - val_acc: 0.9622\n",
      "Epoch 38/50\n",
      "4319/4319 [==============================] - 2s 395us/step - loss: 0.0234 - acc: 0.9975 - val_loss: 0.2823 - val_acc: 0.9643\n",
      "Epoch 39/50\n",
      "4319/4319 [==============================] - 2s 392us/step - loss: 0.0239 - acc: 0.9979 - val_loss: 0.3007 - val_acc: 0.9584\n",
      "Epoch 40/50\n",
      "4319/4319 [==============================] - 2s 396us/step - loss: 0.0207 - acc: 0.9984 - val_loss: 0.3445 - val_acc: 0.9481\n",
      "Epoch 41/50\n",
      "4319/4319 [==============================] - 2s 397us/step - loss: 0.0223 - acc: 0.9979 - val_loss: 0.2847 - val_acc: 0.9627\n",
      "Epoch 42/50\n",
      "4319/4319 [==============================] - 2s 392us/step - loss: 0.0217 - acc: 0.9981 - val_loss: 0.2882 - val_acc: 0.9627\n",
      "Epoch 43/50\n",
      "4319/4319 [==============================] - 2s 395us/step - loss: 0.0218 - acc: 0.9981 - val_loss: 0.3007 - val_acc: 0.9579\n",
      "Epoch 44/50\n",
      "4319/4319 [==============================] - 2s 397us/step - loss: 0.0212 - acc: 0.9984 - val_loss: 0.2835 - val_acc: 0.9633\n",
      "Epoch 45/50\n",
      "4319/4319 [==============================] - 2s 396us/step - loss: 0.0209 - acc: 0.9979 - val_loss: 0.2855 - val_acc: 0.9633\n",
      "Epoch 46/50\n",
      "4319/4319 [==============================] - 2s 393us/step - loss: 0.0209 - acc: 0.9984 - val_loss: 0.2903 - val_acc: 0.9633\n",
      "Epoch 47/50\n",
      "4319/4319 [==============================] - 2s 398us/step - loss: 0.0207 - acc: 0.9986 - val_loss: 0.2872 - val_acc: 0.9616\n",
      "Epoch 48/50\n",
      "4319/4319 [==============================] - 2s 397us/step - loss: 0.0202 - acc: 0.9986 - val_loss: 0.2859 - val_acc: 0.9616\n",
      "Epoch 49/50\n",
      "4319/4319 [==============================] - 2s 395us/step - loss: 0.0219 - acc: 0.9981 - val_loss: 0.2955 - val_acc: 0.9600\n",
      "Epoch 50/50\n",
      "4319/4319 [==============================] - 2s 401us/step - loss: 0.0206 - acc: 0.9984 - val_loss: 0.3351 - val_acc: 0.9498\n"
     ]
    },
    {
     "data": {
      "image/png": "[encoded data removed]",
      "text/plain": [
       "<Figure size 432x288 with 1 Axes>"
      ]
     },
     "metadata": {
      "tags": []
     },
     "output_type": "display_data"
    },
    {
     "name": "stdout",
     "output_type": "stream",
     "text": [
      "Train on 4319 samples, validate on 1851 samples\n",
      "Epoch 1/50\n",
      "4319/4319 [==============================] - 6s 1ms/step - loss: 0.8289 - acc: 0.8493 - val_loss: 0.3674 - val_acc: 0.9379\n",
      "Epoch 2/50\n",
      "4319/4319 [==============================] - 4s 921us/step - loss: 0.3796 - acc: 0.9611 - val_loss: 1.2833 - val_acc: 0.8801\n",
      "Epoch 3/50\n",
      "4319/4319 [==============================] - 4s 918us/step - loss: 0.3246 - acc: 0.9667 - val_loss: 0.4420 - val_acc: 0.9552\n",
      "Epoch 4/50\n",
      "4319/4319 [==============================] - 4s 916us/step - loss: 0.1982 - acc: 0.9850 - val_loss: 0.3631 - val_acc: 0.9600\n",
      "Epoch 5/50\n",
      "4319/4319 [==============================] - 4s 918us/step - loss: 0.1712 - acc: 0.9868 - val_loss: 0.3148 - val_acc: 0.9633\n",
      "Epoch 6/50\n",
      "4319/4319 [==============================] - 4s 917us/step - loss: 0.1296 - acc: 0.9900 - val_loss: 0.3036 - val_acc: 0.9633\n",
      "Epoch 7/50\n",
      "4319/4319 [==============================] - 4s 919us/step - loss: 0.1137 - acc: 0.9914 - val_loss: 0.3077 - val_acc: 0.9622\n",
      "Epoch 8/50\n",
      "4319/4319 [==============================] - 4s 918us/step - loss: 0.1128 - acc: 0.9912 - val_loss: 0.3020 - val_acc: 0.9627\n",
      "Epoch 9/50\n",
      "4319/4319 [==============================] - 4s 916us/step - loss: 0.0965 - acc: 0.9928 - val_loss: 0.3289 - val_acc: 0.9595\n",
      "Epoch 10/50\n",
      "4319/4319 [==============================] - 4s 918us/step - loss: 0.0812 - acc: 0.9942 - val_loss: 0.3589 - val_acc: 0.9611\n",
      "Epoch 11/50\n",
      "4319/4319 [==============================] - 4s 918us/step - loss: 0.0686 - acc: 0.9954 - val_loss: 0.3333 - val_acc: 0.9643\n",
      "Epoch 12/50\n",
      "4319/4319 [==============================] - 4s 915us/step - loss: 0.0686 - acc: 0.9949 - val_loss: 0.3488 - val_acc: 0.9633\n",
      "Epoch 13/50\n",
      "4319/4319 [==============================] - 4s 921us/step - loss: 0.0702 - acc: 0.9940 - val_loss: 0.3501 - val_acc: 0.9546\n",
      "Epoch 14/50\n",
      "4319/4319 [==============================] - 4s 918us/step - loss: 0.0673 - acc: 0.9951 - val_loss: 0.3323 - val_acc: 0.9600\n",
      "Epoch 15/50\n",
      "4319/4319 [==============================] - 4s 919us/step - loss: 0.0672 - acc: 0.9954 - val_loss: 0.3340 - val_acc: 0.9600\n",
      "Epoch 16/50\n",
      "4319/4319 [==============================] - 4s 915us/step - loss: 0.0704 - acc: 0.9935 - val_loss: 0.3355 - val_acc: 0.9595\n",
      "Epoch 17/50\n",
      "4319/4319 [==============================] - 4s 920us/step - loss: 0.0658 - acc: 0.9951 - val_loss: 0.3296 - val_acc: 0.9633\n",
      "Epoch 18/50\n",
      "4319/4319 [==============================] - 4s 916us/step - loss: 0.0701 - acc: 0.9935 - val_loss: 0.3310 - val_acc: 0.9643\n",
      "Epoch 19/50\n",
      "4319/4319 [==============================] - 4s 918us/step - loss: 0.0706 - acc: 0.9935 - val_loss: 0.3352 - val_acc: 0.9606\n",
      "Epoch 20/50\n",
      "4319/4319 [==============================] - 4s 920us/step - loss: 0.0654 - acc: 0.9949 - val_loss: 0.3315 - val_acc: 0.9627\n",
      "Epoch 21/50\n",
      "4319/4319 [==============================] - 4s 918us/step - loss: 0.0649 - acc: 0.9958 - val_loss: 0.3320 - val_acc: 0.9627\n",
      "Epoch 22/50\n",
      "4319/4319 [==============================] - 4s 915us/step - loss: 0.0656 - acc: 0.9954 - val_loss: 0.3369 - val_acc: 0.9600\n",
      "Epoch 23/50\n",
      "4319/4319 [==============================] - 4s 920us/step - loss: 0.0665 - acc: 0.9949 - val_loss: 0.3333 - val_acc: 0.9633\n",
      "Epoch 24/50\n",
      "4319/4319 [==============================] - 4s 915us/step - loss: 0.0656 - acc: 0.9956 - val_loss: 0.3410 - val_acc: 0.9584\n",
      "Epoch 25/50\n",
      "4319/4319 [==============================] - 4s 920us/step - loss: 0.0663 - acc: 0.9949 - val_loss: 0.3367 - val_acc: 0.9622\n",
      "Epoch 26/50\n",
      "4319/4319 [==============================] - 4s 917us/step - loss: 0.0655 - acc: 0.9958 - val_loss: 0.3696 - val_acc: 0.9519\n",
      "Epoch 27/50\n",
      "4319/4319 [==============================] - 4s 918us/step - loss: 0.0694 - acc: 0.9947 - val_loss: 0.3332 - val_acc: 0.9616\n",
      "Epoch 28/50\n",
      "4319/4319 [==============================] - 4s 920us/step - loss: 0.0731 - acc: 0.9931 - val_loss: 0.3324 - val_acc: 0.9616\n",
      "Epoch 29/50\n",
      "4319/4319 [==============================] - 4s 917us/step - loss: 0.0665 - acc: 0.9951 - val_loss: 0.3341 - val_acc: 0.9616\n",
      "Epoch 30/50\n",
      "4319/4319 [==============================] - 4s 917us/step - loss: 0.0653 - acc: 0.9956 - val_loss: 0.3369 - val_acc: 0.9595\n",
      "Epoch 31/50\n",
      "4319/4319 [==============================] - 4s 913us/step - loss: 0.0650 - acc: 0.9958 - val_loss: 0.3422 - val_acc: 0.9573\n",
      "Epoch 32/50\n",
      "4319/4319 [==============================] - 4s 922us/step - loss: 0.0684 - acc: 0.9942 - val_loss: 0.3384 - val_acc: 0.9584\n",
      "Epoch 33/50\n",
      "4319/4319 [==============================] - 4s 916us/step - loss: 0.0682 - acc: 0.9947 - val_loss: 0.4301 - val_acc: 0.9487\n",
      "Epoch 34/50\n",
      "4319/4319 [==============================] - 4s 920us/step - loss: 0.0675 - acc: 0.9951 - val_loss: 0.3304 - val_acc: 0.9600\n",
      "Epoch 35/50\n",
      "4319/4319 [==============================] - 4s 919us/step - loss: 0.0669 - acc: 0.9951 - val_loss: 0.3364 - val_acc: 0.9600\n",
      "Epoch 36/50\n",
      "4319/4319 [==============================] - 4s 918us/step - loss: 0.0651 - acc: 0.9956 - val_loss: 0.3322 - val_acc: 0.9622\n",
      "Epoch 37/50\n",
      "4319/4319 [==============================] - 4s 922us/step - loss: 0.0719 - acc: 0.9933 - val_loss: 0.3437 - val_acc: 0.9600\n",
      "Epoch 38/50\n",
      "4319/4319 [==============================] - 4s 920us/step - loss: 0.0674 - acc: 0.9949 - val_loss: 0.3337 - val_acc: 0.9606\n",
      "Epoch 39/50\n",
      "4319/4319 [==============================] - 4s 918us/step - loss: 0.0660 - acc: 0.9954 - val_loss: 0.3759 - val_acc: 0.9546\n",
      "Epoch 40/50\n",
      "4319/4319 [==============================] - 4s 916us/step - loss: 0.0695 - acc: 0.9949 - val_loss: 0.3423 - val_acc: 0.9562\n",
      "Epoch 41/50\n",
      "4319/4319 [==============================] - 4s 917us/step - loss: 0.0648 - acc: 0.9956 - val_loss: 0.3792 - val_acc: 0.9433\n",
      "Epoch 42/50\n",
      "4319/4319 [==============================] - 4s 921us/step - loss: 0.0656 - acc: 0.9951 - val_loss: 0.3337 - val_acc: 0.9622\n",
      "Epoch 43/50\n",
      "4319/4319 [==============================] - 4s 917us/step - loss: 0.0674 - acc: 0.9944 - val_loss: 0.3732 - val_acc: 0.9487\n",
      "Epoch 44/50\n",
      "4319/4319 [==============================] - 4s 915us/step - loss: 0.0652 - acc: 0.9954 - val_loss: 0.3853 - val_acc: 0.9546\n",
      "Epoch 45/50\n",
      "4319/4319 [==============================] - 4s 918us/step - loss: 0.0667 - acc: 0.9947 - val_loss: 0.3774 - val_acc: 0.9481\n",
      "Epoch 46/50\n",
      "4319/4319 [==============================] - 4s 913us/step - loss: 0.0661 - acc: 0.9956 - val_loss: 0.3313 - val_acc: 0.9584\n",
      "Epoch 47/50\n",
      "4319/4319 [==============================] - 4s 917us/step - loss: 0.0645 - acc: 0.9956 - val_loss: 0.3339 - val_acc: 0.9616\n",
      "Epoch 48/50\n",
      "4319/4319 [==============================] - 4s 921us/step - loss: 0.0665 - acc: 0.9949 - val_loss: 0.3640 - val_acc: 0.9487\n",
      "Epoch 49/50\n",
      "4319/4319 [==============================] - 4s 918us/step - loss: 0.0668 - acc: 0.9954 - val_loss: 0.3336 - val_acc: 0.9589\n",
      "Epoch 50/50\n",
      "4319/4319 [==============================] - 4s 920us/step - loss: 0.0646 - acc: 0.9956 - val_loss: 0.3390 - val_acc: 0.9600\n"
     ]
    },
    {
     "data": {
      "image/png": "[encoded data removed]",
      "text/plain": [
       "<Figure size 432x288 with 1 Axes>"
      ]
     },
     "metadata": {
      "tags": []
     },
     "output_type": "display_data"
    },
    {
     "name": "stdout",
     "output_type": "stream",
     "text": [
      "Train on 4319 samples, validate on 1851 samples\n",
      "Epoch 1/50\n",
      "4319/4319 [==============================] - 11s 3ms/step - loss: 2.7046 - acc: 0.7504 - val_loss: 0.5653 - val_acc: 0.8838\n",
      "Epoch 2/50\n",
      "4319/4319 [==============================] - 7s 2ms/step - loss: 0.3607 - acc: 0.9447 - val_loss: 0.2703 - val_acc: 0.9643\n",
      "Epoch 3/50\n",
      "4319/4319 [==============================] - 7s 2ms/step - loss: 0.2003 - acc: 0.9794 - val_loss: 0.2764 - val_acc: 0.9660\n",
      "Epoch 4/50\n",
      "4319/4319 [==============================] - 7s 2ms/step - loss: 0.1766 - acc: 0.9868 - val_loss: 0.3034 - val_acc: 0.9670\n",
      "Epoch 5/50\n",
      "4319/4319 [==============================] - 7s 2ms/step - loss: 0.1853 - acc: 0.9870 - val_loss: 0.3118 - val_acc: 0.9627\n",
      "Epoch 6/50\n",
      "4319/4319 [==============================] - 7s 2ms/step - loss: 0.1866 - acc: 0.9870 - val_loss: 0.3239 - val_acc: 0.9562\n",
      "Epoch 7/50\n",
      "4319/4319 [==============================] - 7s 2ms/step - loss: 0.1875 - acc: 0.9856 - val_loss: 0.3022 - val_acc: 0.9649\n",
      "Epoch 8/50\n",
      "4319/4319 [==============================] - 7s 2ms/step - loss: 0.1850 - acc: 0.9873 - val_loss: 0.3094 - val_acc: 0.9622\n",
      "Epoch 9/50\n",
      "4319/4319 [==============================] - 7s 2ms/step - loss: 0.1859 - acc: 0.9854 - val_loss: 0.3085 - val_acc: 0.9616\n",
      "Epoch 10/50\n",
      "4319/4319 [==============================] - 7s 2ms/step - loss: 0.1821 - acc: 0.9877 - val_loss: 0.2997 - val_acc: 0.9670\n",
      "Epoch 11/50\n",
      "4319/4319 [==============================] - 7s 2ms/step - loss: 0.1827 - acc: 0.9880 - val_loss: 0.3114 - val_acc: 0.9660\n",
      "Epoch 12/50\n",
      "4319/4319 [==============================] - 7s 2ms/step - loss: 0.1833 - acc: 0.9875 - val_loss: 0.3036 - val_acc: 0.9638\n",
      "Epoch 13/50\n",
      "4319/4319 [==============================] - 7s 2ms/step - loss: 0.1828 - acc: 0.9880 - val_loss: 0.3042 - val_acc: 0.9643\n",
      "Epoch 14/50\n",
      "4319/4319 [==============================] - 7s 2ms/step - loss: 0.1827 - acc: 0.9880 - val_loss: 0.3174 - val_acc: 0.9654\n",
      "Epoch 15/50\n",
      "4319/4319 [==============================] - 7s 2ms/step - loss: 0.1816 - acc: 0.9882 - val_loss: 0.3365 - val_acc: 0.9508\n",
      "Epoch 16/50\n",
      "4319/4319 [==============================] - 7s 2ms/step - loss: 0.1829 - acc: 0.9877 - val_loss: 0.3290 - val_acc: 0.9643\n",
      "Epoch 17/50\n",
      "4319/4319 [==============================] - 7s 2ms/step - loss: 0.1833 - acc: 0.9877 - val_loss: 0.3409 - val_acc: 0.9460\n",
      "Epoch 18/50\n",
      "4319/4319 [==============================] - 7s 2ms/step - loss: 0.1831 - acc: 0.9877 - val_loss: 0.3065 - val_acc: 0.9649\n",
      "Epoch 19/50\n",
      "4319/4319 [==============================] - 7s 2ms/step - loss: 0.1827 - acc: 0.9877 - val_loss: 0.3531 - val_acc: 0.9471\n",
      "Epoch 20/50\n",
      "4319/4319 [==============================] - 7s 2ms/step - loss: 0.1880 - acc: 0.9856 - val_loss: 0.3490 - val_acc: 0.9606\n",
      "Epoch 21/50\n",
      "4319/4319 [==============================] - 7s 2ms/step - loss: 0.1832 - acc: 0.9875 - val_loss: 0.3179 - val_acc: 0.9643\n",
      "Epoch 22/50\n",
      "4319/4319 [==============================] - 7s 2ms/step - loss: 0.1816 - acc: 0.9882 - val_loss: 0.3443 - val_acc: 0.9481\n",
      "Epoch 23/50\n",
      "4319/4319 [==============================] - 7s 2ms/step - loss: 0.1810 - acc: 0.9884 - val_loss: 0.3660 - val_acc: 0.9395\n",
      "Epoch 24/50\n",
      "4319/4319 [==============================] - 7s 2ms/step - loss: 0.1849 - acc: 0.9870 - val_loss: 0.3322 - val_acc: 0.9508\n",
      "Epoch 25/50\n",
      "4319/4319 [==============================] - 7s 2ms/step - loss: 0.1824 - acc: 0.9882 - val_loss: 0.3105 - val_acc: 0.9654\n",
      "Epoch 26/50\n",
      "4319/4319 [==============================] - 7s 2ms/step - loss: 0.1848 - acc: 0.9870 - val_loss: 0.3193 - val_acc: 0.9654\n",
      "Epoch 27/50\n",
      "4319/4319 [==============================] - 7s 2ms/step - loss: 0.1811 - acc: 0.9882 - val_loss: 0.3132 - val_acc: 0.9627\n",
      "Epoch 28/50\n",
      "4319/4319 [==============================] - 7s 2ms/step - loss: 0.1817 - acc: 0.9882 - val_loss: 0.3198 - val_acc: 0.9633\n",
      "Epoch 29/50\n",
      "4319/4319 [==============================] - 7s 2ms/step - loss: 0.1820 - acc: 0.9882 - val_loss: 0.3502 - val_acc: 0.9498\n",
      "Epoch 30/50\n",
      "4319/4319 [==============================] - 7s 2ms/step - loss: 0.1830 - acc: 0.9875 - val_loss: 0.3250 - val_acc: 0.9552\n",
      "Epoch 31/50\n",
      "4319/4319 [==============================] - 7s 2ms/step - loss: 0.1821 - acc: 0.9877 - val_loss: 0.3438 - val_acc: 0.9498\n",
      "Epoch 32/50\n",
      "4319/4319 [==============================] - 7s 2ms/step - loss: 0.1854 - acc: 0.9873 - val_loss: 0.3565 - val_acc: 0.9481\n",
      "Epoch 33/50\n",
      "4319/4319 [==============================] - 7s 2ms/step - loss: 0.2249 - acc: 0.9836 - val_loss: 1.5583 - val_acc: 0.8811\n",
      "Epoch 34/50\n",
      "4319/4319 [==============================] - 7s 2ms/step - loss: 2.0608 - acc: 0.8615 - val_loss: 2.9762 - val_acc: 0.7785\n",
      "Epoch 35/50\n",
      "4319/4319 [==============================] - 7s 2ms/step - loss: 0.7689 - acc: 0.9437 - val_loss: 0.6357 - val_acc: 0.9557\n",
      "Epoch 36/50\n",
      "4319/4319 [==============================] - 7s 2ms/step - loss: 0.3173 - acc: 0.9778 - val_loss: 0.6748 - val_acc: 0.9525\n",
      "Epoch 37/50\n",
      "4319/4319 [==============================] - 7s 2ms/step - loss: 0.3195 - acc: 0.9787 - val_loss: 0.9520 - val_acc: 0.9335\n",
      "Epoch 38/50\n",
      "4319/4319 [==============================] - 7s 2ms/step - loss: 0.3017 - acc: 0.9799 - val_loss: 0.6632 - val_acc: 0.9503\n",
      "Epoch 39/50\n",
      "4319/4319 [==============================] - 7s 2ms/step - loss: 0.3411 - acc: 0.9766 - val_loss: 0.8281 - val_acc: 0.9395\n",
      "Epoch 40/50\n",
      "4319/4319 [==============================] - 7s 2ms/step - loss: 0.3399 - acc: 0.9773 - val_loss: 0.8342 - val_acc: 0.9400\n",
      "Epoch 41/50\n",
      "4319/4319 [==============================] - 7s 2ms/step - loss: 0.2408 - acc: 0.9843 - val_loss: 0.6367 - val_acc: 0.9514\n",
      "Epoch 42/50\n",
      "4319/4319 [==============================] - 7s 2ms/step - loss: 0.2294 - acc: 0.9852 - val_loss: 0.6336 - val_acc: 0.9519\n",
      "Epoch 43/50\n",
      "4319/4319 [==============================] - 7s 2ms/step - loss: 0.2220 - acc: 0.9854 - val_loss: 0.6675 - val_acc: 0.9498\n",
      "Epoch 44/50\n",
      "4319/4319 [==============================] - 7s 2ms/step - loss: 0.2193 - acc: 0.9847 - val_loss: 0.6400 - val_acc: 0.9508\n",
      "Epoch 45/50\n",
      "4319/4319 [==============================] - 7s 2ms/step - loss: 0.2927 - acc: 0.9815 - val_loss: 0.9186 - val_acc: 0.9298\n",
      "Epoch 46/50\n",
      "4319/4319 [==============================] - 7s 2ms/step - loss: 0.3081 - acc: 0.9794 - val_loss: 0.8495 - val_acc: 0.9363\n",
      "Epoch 47/50\n",
      "4319/4319 [==============================] - 7s 2ms/step - loss: 0.3034 - acc: 0.9808 - val_loss: 0.6543 - val_acc: 0.9525\n",
      "Epoch 48/50\n",
      "4319/4319 [==============================] - 7s 2ms/step - loss: 0.2926 - acc: 0.9812 - val_loss: 0.7741 - val_acc: 0.9433\n",
      "Epoch 49/50\n",
      "4319/4319 [==============================] - 7s 2ms/step - loss: 0.3163 - acc: 0.9787 - val_loss: 0.8086 - val_acc: 0.9400\n",
      "Epoch 50/50\n",
      "4319/4319 [==============================] - 7s 2ms/step - loss: 0.2880 - acc: 0.9817 - val_loss: 0.6746 - val_acc: 0.9498\n"
     ]
    },
    {
     "data": {
      "image/png": "[encoded data removed]",
      "text/plain": [
       "<Figure size 432x288 with 1 Axes>"
      ]
     },
     "metadata": {
      "tags": []
     },
     "output_type": "display_data"
    }
   ],
   "source": [
    "for units in quantity_of_units:\n",
    "    model=Sequential()\n",
    "    model.add(Dense(units, input_dim=number_of_features, activation='relu'))\n",
    "    keras.layers.core.Dropout(rate=0.4) # Creamos una capa oculta para regularizar y evitar sobre-entrenamientos\n",
    "    model.add(Dense(num_classes,input_dim=number_of_features,activation='softmax')) # Creamos la capa de salida\n",
    "\n",
    "    # Vamos a usar el optimizador adam para compilar el modelo y vamos a usar la precisión como metrica\n",
    "    model.compile(loss='categorical_crossentropy', optimizer=\"adam\", metrics=['accuracy'])\n",
    "\n",
    "    # Entrenamos el modelo y hacemos la validación\n",
    "    fit_history = model.fit(X_train,y_train,epochs=50,batch_size=128,validation_data=(X_test,y_test))\n",
    "    print_history(fit_history, units) # Graficamos la precisión a lo largo del entrenamiento"
   ]
  },
  {
   "cell_type": "markdown",
   "metadata": {
    "colab": {},
    "colab_type": "code",
    "id": "TKsqnw0SMMlr"
   },
   "source": [
    "Se puede observar que bajo toda cantidad de neuronas en la capa oculta los modelos se trataron de ajustar a la curva de set de entrenamiento, sin embargo la que mostró un mejor porcentaje de precisión a lo largo de los epochs fue la capa oculta con 6124 neuronas llegando a tener un promedio de un 96% de precisión.\n",
    "\n",
    "Comparando la red neuronal con 6124 neuronas en la capa oculta y la regresión logística, también se obtuvo una mayor precisión en la red neuronal (96%) Vs. la regresión logística (94%) para la clasificación de mensajes de spam."
   ]
  },
  {
   "cell_type": "code",
   "execution_count": null,
   "metadata": {},
   "outputs": [],
   "source": []
  }
 ],
 "metadata": {
  "accelerator": "GPU",
  "colab": {
   "collapsed_sections": [],
   "name": "03-spam.ipynb",
   "provenance": [],
   "version": "0.3.2"
  },
  "kernelspec": {
   "display_name": "Python 3",
   "language": "python",
   "name": "python3"
  },
  "language_info": {
   "codemirror_mode": {
    "name": "ipython",
    "version": 3
   },
   "file_extension": ".py",
   "mimetype": "text/x-python",
   "name": "python",
   "nbconvert_exporter": "python",
   "pygments_lexer": "ipython3",
   "version": "3.6.5"
  }
 },
 "nbformat": 4,
 "nbformat_minor": 1
}
